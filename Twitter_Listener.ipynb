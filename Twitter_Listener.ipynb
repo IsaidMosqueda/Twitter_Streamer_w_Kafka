{
 "metadata": {
  "language_info": {
   "codemirror_mode": {
    "name": "ipython",
    "version": 3
   },
   "file_extension": ".py",
   "mimetype": "text/x-python",
   "name": "python",
   "nbconvert_exporter": "python",
   "pygments_lexer": "ipython3",
   "version": "3.8.10"
  },
  "orig_nbformat": 2,
  "kernelspec": {
   "name": "python3",
   "display_name": "Python 3.8.10 64-bit"
  },
  "metadata": {
   "interpreter": {
    "hash": "e7370f93d1d0cde622a1f8e1c04877d8463912d04d973331ad4851f04de6915a"
   }
  },
  "interpreter": {
   "hash": "df0893f56f349688326838aaeea0de204df53a132722cbd565e54b24a8fec5f6"
  }
 },
 "nbformat": 4,
 "nbformat_minor": 2,
 "cells": [
  {
   "cell_type": "code",
   "execution_count": 1,
   "source": [
    "# Kafka functions\n",
    "from kafka import KafkaProducer\n",
    "from kafka import KafkaConsumer\n",
    "\n",
    "import time\n",
    "import numpy as np\n",
    "from json import dumps, loads"
   ],
   "outputs": [],
   "metadata": {}
  },
  {
   "cell_type": "code",
   "execution_count": 2,
   "source": [
    "#Dash and Plotly functions\n",
    "import dash\n",
    "from dash.dependencies import Output, Input\n",
    "import dash_core_components as dcc\n",
    "import dash_html_components as html\n",
    "import plotly\n",
    "import random\n",
    "import plotly.graph_objs as go\n",
    "from collections import deque\n",
    "\n",
    "#Initialize X and Y axis for live plot\n",
    "X = deque()\n",
    "X.append(0)\n",
    "Y = deque()\n",
    "Y.append(0)"
   ],
   "outputs": [],
   "metadata": {}
  },
  {
   "cell_type": "markdown",
   "source": [
    "## Define live graph parameters"
   ],
   "metadata": {}
  },
  {
   "cell_type": "code",
   "execution_count": 3,
   "source": [
    "app = dash.Dash(__name__)\n",
    "  \n",
    "app.layout = html.Div(\n",
    "    [\n",
    "        dcc.Graph(id = 'live-graph', animate = True),\n",
    "        dcc.Interval(\n",
    "            id = 'graph-update',\n",
    "            interval = 1000,\n",
    "            n_intervals = 0\n",
    "        ),\n",
    "    ]\n",
    ")\n",
    "  \n",
    "@app.callback(\n",
    "    Output('live-graph', 'figure'),\n",
    "    [ Input('graph-update', 'n_intervals') ]\n",
    ")\n",
    "  \n",
    "def update_graph_scatter(n):\n",
    "    global sentiments_trayectory\n",
    "    X.append(X[-1]+1)\n",
    "  \n",
    "    data = plotly.graph_objs.Scatter(\n",
    "            x=list(X),\n",
    "            y=list(sentiments_trayectory),\n",
    "            name='Scatter',\n",
    "            mode= 'lines+markers'\n",
    "    )\n",
    "  \n",
    "    return {'data': [data],\n",
    "            'layout' : go.Layout(xaxis=dict(range=[min(X),max(X)]),yaxis = dict(range = [-100,100]),)}\n"
   ],
   "outputs": [],
   "metadata": {}
  },
  {
   "cell_type": "markdown",
   "source": [
    "## Subscribe to topic and define listener function"
   ],
   "metadata": {}
  },
  {
   "cell_type": "code",
   "execution_count": 4,
   "source": [
    "#Declare consumer\n",
    "consumer = KafkaConsumer('tweets', auto_offset_reset = 'earliest')"
   ],
   "outputs": [],
   "metadata": {}
  },
  {
   "cell_type": "code",
   "execution_count": 5,
   "source": [
    "def kafka_listener(time_span,print_tweets,plot_sentiment):\n",
    "    if plot_sentiment == True:\n",
    "        global sentiments_trayectory \n",
    "    starting = time.time()\n",
    "    elapsed = 0\n",
    "\n",
    "    while elapsed < time_span:\n",
    "        elapsed = time.time() - starting\n",
    "        for msg in consumer:\n",
    "            elapsed = time.time() - starting\n",
    "            dato = msg\n",
    "\n",
    "            tweet_dict = loads(dato.value)\n",
    "            user = tweet_dict['user']\n",
    "            followers = tweet_dict['followers']\n",
    "            text = tweet_dict['text']\n",
    "            sentiment = tweet_dict['sentiment']\n",
    "            subjetivity = tweet_dict['subjetivity']\n",
    "            if print_tweets == True:\n",
    "                print('User:',user,', followers:',followers,', sentiment:',sentiment, ', subjetivity:',subjetivity)\n",
    "            \n",
    "            if plot_sentiment == True:\n",
    "                #In order to take account of the following from the user, a weighted sentiment is used for the graph \n",
    "                weighted_sentiment = np.log(followers+1) * sentiment\n",
    "                sentiments_trayectory.append(sentiments_trayectory[-1]+weighted_sentiment)\n",
    "            if elapsed > time_span:\n",
    "                return\n",
    "    return"
   ],
   "outputs": [],
   "metadata": {}
  },
  {
   "cell_type": "markdown",
   "source": [
    "## Listen tweets"
   ],
   "metadata": {}
  },
  {
   "cell_type": "code",
   "execution_count": null,
   "source": [
    "kafka_listener(20,print_tweets = True,plot_sentiment = False)"
   ],
   "outputs": [],
   "metadata": {
    "tags": [
     "outputPrepend"
    ]
   }
  },
  {
   "cell_type": "markdown",
   "source": [
    "## Listen tweets and plot sentiment of tweets "
   ],
   "metadata": {}
  },
  {
   "cell_type": "code",
   "execution_count": null,
   "source": [
    "from multiprocessing import Process\n",
    "from multiprocessing import Manager\n",
    "#A manager proxy list is required in order to add values to the list the plot will be\n",
    "#reading, both at the same time\n",
    "manager = Manager()\n",
    "sentiments_trayectory = manager.list([0])\n",
    "\n",
    "p = Process(target=kafka_listener, args=(300,True,True))\n",
    "#Intialize sentiment listening\n",
    "p.start()\n",
    "#Run live Graph\n",
    "app.run_server()\n",
    "p.join()"
   ],
   "outputs": [],
   "metadata": {
    "tags": [
     "outputPrepend"
    ]
   }
  }
 ]
}